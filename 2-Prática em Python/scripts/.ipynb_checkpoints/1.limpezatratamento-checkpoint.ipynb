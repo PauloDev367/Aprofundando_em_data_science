{
 "cells": [
  {
   "cell_type": "markdown",
   "metadata": {},
   "source": [
    "Formação Cientista de Dados - Fernando Amaral e Jones Granatyr\n",
    "Limpeza e tratamento de Dados"
   ]
  },
  {
   "cell_type": "code",
   "execution_count": 1,
   "metadata": {},
   "outputs": [],
   "source": [
    "# para importar os dados \n",
    "import pandas as pd\n",
    "# para plotar graficos - na etapa de analise exploratoria\n",
    "import seaborn as srn\n",
    "# para calculos estatisticos, como mediana e analise de outliers\n",
    "import statistics  as sts"
   ]
  },
  {
   "cell_type": "code",
   "execution_count": 4,
   "metadata": {},
   "outputs": [
    {
     "data": {
      "text/html": [
       "<div>\n",
       "<style scoped>\n",
       "    .dataframe tbody tr th:only-of-type {\n",
       "        vertical-align: middle;\n",
       "    }\n",
       "\n",
       "    .dataframe tbody tr th {\n",
       "        vertical-align: top;\n",
       "    }\n",
       "\n",
       "    .dataframe thead th {\n",
       "        text-align: right;\n",
       "    }\n",
       "</style>\n",
       "<table border=\"1\" class=\"dataframe\">\n",
       "  <thead>\n",
       "    <tr style=\"text-align: right;\">\n",
       "      <th></th>\n",
       "      <th>X0</th>\n",
       "      <th>X1</th>\n",
       "      <th>X2</th>\n",
       "      <th>X3</th>\n",
       "      <th>X4</th>\n",
       "      <th>X4.1</th>\n",
       "      <th>X6</th>\n",
       "      <th>X7</th>\n",
       "      <th>X8</th>\n",
       "      <th>X9</th>\n",
       "      <th>X10</th>\n",
       "      <th>X11</th>\n",
       "    </tr>\n",
       "  </thead>\n",
       "  <tbody>\n",
       "    <tr>\n",
       "      <th>0</th>\n",
       "      <td>1</td>\n",
       "      <td>619</td>\n",
       "      <td>RS</td>\n",
       "      <td>Feminino</td>\n",
       "      <td>42</td>\n",
       "      <td>2</td>\n",
       "      <td>0</td>\n",
       "      <td>1</td>\n",
       "      <td>1</td>\n",
       "      <td>1</td>\n",
       "      <td>10134888.0</td>\n",
       "      <td>1</td>\n",
       "    </tr>\n",
       "    <tr>\n",
       "      <th>1</th>\n",
       "      <td>2</td>\n",
       "      <td>608</td>\n",
       "      <td>SC</td>\n",
       "      <td>Feminino</td>\n",
       "      <td>41</td>\n",
       "      <td>1</td>\n",
       "      <td>8380786</td>\n",
       "      <td>1</td>\n",
       "      <td>0</td>\n",
       "      <td>1</td>\n",
       "      <td>11254258.0</td>\n",
       "      <td>0</td>\n",
       "    </tr>\n",
       "    <tr>\n",
       "      <th>2</th>\n",
       "      <td>3</td>\n",
       "      <td>502</td>\n",
       "      <td>RS</td>\n",
       "      <td>Feminino</td>\n",
       "      <td>42</td>\n",
       "      <td>8</td>\n",
       "      <td>1596608</td>\n",
       "      <td>3</td>\n",
       "      <td>1</td>\n",
       "      <td>0</td>\n",
       "      <td>11393157.0</td>\n",
       "      <td>1</td>\n",
       "    </tr>\n",
       "    <tr>\n",
       "      <th>3</th>\n",
       "      <td>4</td>\n",
       "      <td>699</td>\n",
       "      <td>RS</td>\n",
       "      <td>Feminino</td>\n",
       "      <td>39</td>\n",
       "      <td>1</td>\n",
       "      <td>0</td>\n",
       "      <td>2</td>\n",
       "      <td>0</td>\n",
       "      <td>0</td>\n",
       "      <td>9382663.0</td>\n",
       "      <td>0</td>\n",
       "    </tr>\n",
       "    <tr>\n",
       "      <th>4</th>\n",
       "      <td>5</td>\n",
       "      <td>850</td>\n",
       "      <td>SC</td>\n",
       "      <td>Feminino</td>\n",
       "      <td>43</td>\n",
       "      <td>2</td>\n",
       "      <td>12551082</td>\n",
       "      <td>1</td>\n",
       "      <td>1</td>\n",
       "      <td>1</td>\n",
       "      <td>790841.0</td>\n",
       "      <td>0</td>\n",
       "    </tr>\n",
       "  </tbody>\n",
       "</table>\n",
       "</div>"
      ],
      "text/plain": [
       "   X0   X1  X2        X3  X4  X4.1        X6  X7  X8  X9         X10  X11\n",
       "0   1  619  RS  Feminino  42     2         0   1   1   1  10134888.0    1\n",
       "1   2  608  SC  Feminino  41     1   8380786   1   0   1  11254258.0    0\n",
       "2   3  502  RS  Feminino  42     8   1596608   3   1   0  11393157.0    1\n",
       "3   4  699  RS  Feminino  39     1         0   2   0   0   9382663.0    0\n",
       "4   5  850  SC  Feminino  43     2  12551082   1   1   1    790841.0    0"
      ]
     },
     "execution_count": 4,
     "metadata": {},
     "output_type": "execute_result"
    }
   ],
   "source": [
    "#importar dados\n",
    "dataset = pd.read_csv(\"Churn.csv\", sep=\";\")\n",
    "#visulizar\n",
    "dataset.head()"
   ]
  },
  {
   "cell_type": "code",
   "execution_count": 5,
   "metadata": {},
   "outputs": [
    {
     "data": {
      "text/plain": [
       "(999, 12)"
      ]
     },
     "execution_count": 5,
     "metadata": {},
     "output_type": "execute_result"
    }
   ],
   "source": [
    "#tamanho\n",
    "dataset.shape"
   ]
  },
  {
   "cell_type": "code",
   "execution_count": 6,
   "metadata": {},
   "outputs": [],
   "source": [
    "#primeiro problema é dar nomes as colunas\n",
    "dataset.columns = [\"Id\",\"Score\",\"Estado\",\"Genero\",\"Idade\",\"Patrimonio\",\"Saldo\",\"Produtos\",\"TemCartCredito\",\n",
    "                    \"Ativo\",\"Salario\",\"Saiu\"]"
   ]
  },
  {
   "cell_type": "code",
   "execution_count": 7,
   "metadata": {},
   "outputs": [
    {
     "data": {
      "text/html": [
       "<div>\n",
       "<style scoped>\n",
       "    .dataframe tbody tr th:only-of-type {\n",
       "        vertical-align: middle;\n",
       "    }\n",
       "\n",
       "    .dataframe tbody tr th {\n",
       "        vertical-align: top;\n",
       "    }\n",
       "\n",
       "    .dataframe thead th {\n",
       "        text-align: right;\n",
       "    }\n",
       "</style>\n",
       "<table border=\"1\" class=\"dataframe\">\n",
       "  <thead>\n",
       "    <tr style=\"text-align: right;\">\n",
       "      <th></th>\n",
       "      <th>Id</th>\n",
       "      <th>Score</th>\n",
       "      <th>Estado</th>\n",
       "      <th>Genero</th>\n",
       "      <th>Idade</th>\n",
       "      <th>Patrimonio</th>\n",
       "      <th>Saldo</th>\n",
       "      <th>Produtos</th>\n",
       "      <th>TemCartCredito</th>\n",
       "      <th>Ativo</th>\n",
       "      <th>Salario</th>\n",
       "      <th>Saiu</th>\n",
       "    </tr>\n",
       "  </thead>\n",
       "  <tbody>\n",
       "    <tr>\n",
       "      <th>0</th>\n",
       "      <td>1</td>\n",
       "      <td>619</td>\n",
       "      <td>RS</td>\n",
       "      <td>Feminino</td>\n",
       "      <td>42</td>\n",
       "      <td>2</td>\n",
       "      <td>0</td>\n",
       "      <td>1</td>\n",
       "      <td>1</td>\n",
       "      <td>1</td>\n",
       "      <td>10134888.0</td>\n",
       "      <td>1</td>\n",
       "    </tr>\n",
       "    <tr>\n",
       "      <th>1</th>\n",
       "      <td>2</td>\n",
       "      <td>608</td>\n",
       "      <td>SC</td>\n",
       "      <td>Feminino</td>\n",
       "      <td>41</td>\n",
       "      <td>1</td>\n",
       "      <td>8380786</td>\n",
       "      <td>1</td>\n",
       "      <td>0</td>\n",
       "      <td>1</td>\n",
       "      <td>11254258.0</td>\n",
       "      <td>0</td>\n",
       "    </tr>\n",
       "    <tr>\n",
       "      <th>2</th>\n",
       "      <td>3</td>\n",
       "      <td>502</td>\n",
       "      <td>RS</td>\n",
       "      <td>Feminino</td>\n",
       "      <td>42</td>\n",
       "      <td>8</td>\n",
       "      <td>1596608</td>\n",
       "      <td>3</td>\n",
       "      <td>1</td>\n",
       "      <td>0</td>\n",
       "      <td>11393157.0</td>\n",
       "      <td>1</td>\n",
       "    </tr>\n",
       "    <tr>\n",
       "      <th>3</th>\n",
       "      <td>4</td>\n",
       "      <td>699</td>\n",
       "      <td>RS</td>\n",
       "      <td>Feminino</td>\n",
       "      <td>39</td>\n",
       "      <td>1</td>\n",
       "      <td>0</td>\n",
       "      <td>2</td>\n",
       "      <td>0</td>\n",
       "      <td>0</td>\n",
       "      <td>9382663.0</td>\n",
       "      <td>0</td>\n",
       "    </tr>\n",
       "    <tr>\n",
       "      <th>4</th>\n",
       "      <td>5</td>\n",
       "      <td>850</td>\n",
       "      <td>SC</td>\n",
       "      <td>Feminino</td>\n",
       "      <td>43</td>\n",
       "      <td>2</td>\n",
       "      <td>12551082</td>\n",
       "      <td>1</td>\n",
       "      <td>1</td>\n",
       "      <td>1</td>\n",
       "      <td>790841.0</td>\n",
       "      <td>0</td>\n",
       "    </tr>\n",
       "  </tbody>\n",
       "</table>\n",
       "</div>"
      ],
      "text/plain": [
       "   Id  Score Estado    Genero  Idade  Patrimonio     Saldo  Produtos  \\\n",
       "0   1    619     RS  Feminino     42           2         0         1   \n",
       "1   2    608     SC  Feminino     41           1   8380786         1   \n",
       "2   3    502     RS  Feminino     42           8   1596608         3   \n",
       "3   4    699     RS  Feminino     39           1         0         2   \n",
       "4   5    850     SC  Feminino     43           2  12551082         1   \n",
       "\n",
       "   TemCartCredito  Ativo     Salario  Saiu  \n",
       "0               1      1  10134888.0     1  \n",
       "1               0      1  11254258.0     0  \n",
       "2               1      0  11393157.0     1  \n",
       "3               0      0   9382663.0     0  \n",
       "4               1      1    790841.0     0  "
      ]
     },
     "execution_count": 7,
     "metadata": {},
     "output_type": "execute_result"
    }
   ],
   "source": [
    "#visulizar\n",
    "dataset.head()"
   ]
  },
  {
   "cell_type": "code",
   "execution_count": 8,
   "metadata": {},
   "outputs": [
    {
     "data": {
      "text/plain": [
       "Estado\n",
       "PR    257\n",
       "RP      1\n",
       "RS    478\n",
       "SC    258\n",
       "SP      4\n",
       "TD      1\n",
       "dtype: int64"
      ]
     },
     "execution_count": 8,
     "metadata": {},
     "output_type": "execute_result"
    }
   ],
   "source": [
    "#explorar dados categoricos\n",
    "#estado\n",
    "agrupado = dataset.groupby(['Estado']).size()\n",
    "agrupado"
   ]
  },
  {
   "cell_type": "code",
   "execution_count": 9,
   "metadata": {},
   "outputs": [
    {
     "data": {
      "text/plain": [
       "<Axes: xlabel='Estado'>"
      ]
     },
     "execution_count": 9,
     "metadata": {},
     "output_type": "execute_result"
    },
    {
     "data": {
      "image/png": "[encoded data removed]",
      "text/plain": [
       "<Figure size 640x480 with 1 Axes>"
      ]
     },
     "metadata": {},
     "output_type": "display_data"
    }
   ],
   "source": [
    "agrupado.plot.bar(color = 'gray')"
   ]
  },
  {
   "cell_type": "code",
   "execution_count": 10,
   "metadata": {},
   "outputs": [
    {
     "data": {
      "text/plain": [
       "Genero\n",
       "F              2\n",
       "Fem            1\n",
       "Feminino     461\n",
       "M              6\n",
       "Masculino    521\n",
       "dtype: int64"
      ]
     },
     "execution_count": 10,
     "metadata": {},
     "output_type": "execute_result"
    }
   ],
   "source": [
    "#genero\n",
    "agrupado = dataset.groupby(['Genero']).size()\n",
    "agrupado"
   ]
  },
  {
   "cell_type": "code",
   "execution_count": 11,
   "metadata": {},
   "outputs": [
    {
     "data": {
      "text/plain": [
       "<Axes: xlabel='Genero'>"
      ]
     },
     "execution_count": 11,
     "metadata": {},
     "output_type": "execute_result"
    },
    {
     "data": {
      "image/png": "[encoded data removed]",
      "text/plain": [
       "<Figure size 640x480 with 1 Axes>"
      ]
     },
     "metadata": {},
     "output_type": "display_data"
    }
   ],
   "source": [
    "agrupado.plot.bar(color = 'gray')"
   ]
  },
  {
   "cell_type": "code",
   "execution_count": 12,
   "metadata": {},
   "outputs": [
    {
     "data": {
      "text/plain": [
       "count    999.000000\n",
       "mean     648.621622\n",
       "std       98.264219\n",
       "min      376.000000\n",
       "25%      580.000000\n",
       "50%      653.000000\n",
       "75%      721.000000\n",
       "max      850.000000\n",
       "Name: Score, dtype: float64"
      ]
     },
     "execution_count": 12,
     "metadata": {},
     "output_type": "execute_result"
    }
   ],
   "source": [
    "#explorar colunas numéricas\n",
    "#score\n",
    "dataset['Score'].describe()"
   ]
  },
  {
   "cell_type": "code",
   "execution_count": 13,
   "metadata": {},
   "outputs": [
    {
     "data": {
      "text/plain": [
       "Text(0.5, 1.0, 'Score')"
      ]
     },
     "execution_count": 13,
     "metadata": {},
     "output_type": "execute_result"
    },
    {
     "data": {
      "image/png": "[encoded data removed]",
      "text/plain": [
       "<Figure size 640x480 with 1 Axes>"
      ]
     },
     "metadata": {},
     "output_type": "display_data"
    }
   ],
   "source": [
    "srn.boxplot(dataset['Score']).set_title('Score')"
   ]
  },
  {
   "cell_type": "code",
   "execution_count": null,
   "metadata": {},
   "outputs": [],
   "source": [
    "srn.distplot(dataset['Score']).set_title('Score')"
   ]
  },
  {
   "cell_type": "code",
   "execution_count": 14,
   "metadata": {},
   "outputs": [
    {
     "data": {
      "text/plain": [
       "count    999.000000\n",
       "mean      38.902903\n",
       "std       11.401912\n",
       "min      -20.000000\n",
       "25%       32.000000\n",
       "50%       37.000000\n",
       "75%       44.000000\n",
       "max      140.000000\n",
       "Name: Idade, dtype: float64"
      ]
     },
     "execution_count": 14,
     "metadata": {},
     "output_type": "execute_result"
    }
   ],
   "source": [
    "#idade\n",
    "dataset['Idade'].describe()"
   ]
  },
  {
   "cell_type": "code",
   "execution_count": 15,
   "metadata": {},
   "outputs": [
    {
     "data": {
      "text/plain": [
       "Text(0.5, 1.0, 'Idade')"
      ]
     },
     "execution_count": 15,
     "metadata": {},
     "output_type": "execute_result"
    },
    {
     "data": {
      "image/png": "[encoded data removed]",
      "text/plain": [
       "<Figure size 640x480 with 1 Axes>"
      ]
     },
     "metadata": {},
     "output_type": "display_data"
    }
   ],
   "source": [
    "srn.boxplot(dataset['Idade']).set_title('Idade')"
   ]
  },
  {
   "cell_type": "code",
   "execution_count": 23,
   "metadata": {},
   "outputs": [
    {
     "name": "stderr",
     "output_type": "stream",
     "text": [
      "/home/paulo/anaconda3/lib/python3.11/site-packages/seaborn/_oldcore.py:1119: FutureWarning: use_inf_as_na option is deprecated and will be removed in a future version. Convert inf values to NaN before operating instead.\n",
      "  with pd.option_context('mode.use_inf_as_na', True):\n"
     ]
    },
    {
     "ename": "AttributeError",
     "evalue": "'FacetGrid' object has no attribute 'set_title'",
     "output_type": "error",
     "traceback": [
      "\u001b[0;31m---------------------------------------------------------------------------\u001b[0m",
      "\u001b[0;31mAttributeError\u001b[0m                            Traceback (most recent call last)",
      "Cell \u001b[0;32mIn[23], line 1\u001b[0m\n\u001b[0;32m----> 1\u001b[0m srn\u001b[38;5;241m.\u001b[39mdisplot(dataset[\u001b[38;5;124m'\u001b[39m\u001b[38;5;124mIdade\u001b[39m\u001b[38;5;124m'\u001b[39m])\u001b[38;5;241m.\u001b[39mset_title(\u001b[38;5;124m'\u001b[39m\u001b[38;5;124mIdade\u001b[39m\u001b[38;5;124m'\u001b[39m)\n",
      "\u001b[0;31mAttributeError\u001b[0m: 'FacetGrid' object has no attribute 'set_title'"
     ]
    },
    {
     "data": {
      "image/png": "[encoded data removed]",
      "text/plain": [
       "<Figure size 500x500 with 1 Axes>"
      ]
     },
     "metadata": {},
     "output_type": "display_data"
    }
   ],
   "source": [
    "srn.displot(dataset['Idade']).set_title('Idade')"
   ]
  },
  {
   "cell_type": "code",
   "execution_count": 24,
   "metadata": {},
   "outputs": [
    {
     "data": {
      "text/plain": [
       "count    9.990000e+02\n",
       "mean     7.164928e+06\n",
       "std      6.311840e+06\n",
       "min      0.000000e+00\n",
       "25%      0.000000e+00\n",
       "50%      8.958835e+06\n",
       "75%      1.258684e+07\n",
       "max      2.117743e+07\n",
       "Name: Saldo, dtype: float64"
      ]
     },
     "execution_count": 24,
     "metadata": {},
     "output_type": "execute_result"
    }
   ],
   "source": [
    "#saldo\n",
    "dataset['Saldo'].describe()"
   ]
  },
  {
   "cell_type": "code",
   "execution_count": 25,
   "metadata": {},
   "outputs": [
    {
     "data": {
      "text/plain": [
       "Text(0.5, 1.0, 'Saldo')"
      ]
     },
     "execution_count": 25,
     "metadata": {},
     "output_type": "execute_result"
    },
    {
     "data": {
      "image/png": "[encoded data removed]",
      "text/plain": [
       "<Figure size 640x480 with 1 Axes>"
      ]
     },
     "metadata": {},
     "output_type": "display_data"
    }
   ],
   "source": [
    "srn.boxplot(dataset['Saldo']).set_title('Saldo')"
   ]
  },
  {
   "cell_type": "code",
   "execution_count": 29,
   "metadata": {},
   "outputs": [
    {
     "name": "stderr",
     "output_type": "stream",
     "text": [
      "/tmp/ipykernel_13412/3978263718.py:1: UserWarning: \n",
      "\n",
      "`distplot` is a deprecated function and will be removed in seaborn v0.14.0.\n",
      "\n",
      "Please adapt your code to use either `displot` (a figure-level function with\n",
      "similar flexibility) or `histplot` (an axes-level function for histograms).\n",
      "\n",
      "For a guide to updating your code to use the new functions, please see\n",
      "https://gist.github.com/mwaskom/de44147ed2974457ad6372750bbe5751\n",
      "\n",
      "  srn.distplot(dataset['Saldo']).set_title('Saldo')\n",
      "/home/paulo/anaconda3/lib/python3.11/site-packages/seaborn/_oldcore.py:1119: FutureWarning: use_inf_as_na option is deprecated and will be removed in a future version. Convert inf values to NaN before operating instead.\n",
      "  with pd.option_context('mode.use_inf_as_na', True):\n"
     ]
    },
    {
     "data": {
      "text/plain": [
       "Text(0.5, 1.0, 'Saldo')"
      ]
     },
     "execution_count": 29,
     "metadata": {},
     "output_type": "execute_result"
    },
    {
     "data": {
      "image/png": "[encoded data removed]",
      "text/plain": [
       "<Figure size 640x480 with 1 Axes>"
      ]
     },
     "metadata": {},
     "output_type": "display_data"
    }
   ],
   "source": [
    "srn.distplot(dataset['Saldo']).set_title('Saldo')"
   ]
  },
  {
   "cell_type": "code",
   "execution_count": null,
   "metadata": {},
   "outputs": [],
   "source": [
    "#salário\n",
    "dataset['Salario'].describe()"
   ]
  },
  {
   "cell_type": "code",
   "execution_count": null,
   "metadata": {},
   "outputs": [],
   "source": [
    "srn.boxplot(dataset['Salario']).set_title('Salario')"
   ]
  },
  {
   "cell_type": "code",
   "execution_count": null,
   "metadata": {},
   "outputs": [],
   "source": [
    "srn.distplot(dataset['Salario']).set_title('Salario')"
   ]
  },
  {
   "cell_type": "code",
   "execution_count": null,
   "metadata": {},
   "outputs": [],
   "source": [
    "#contamos valores NAN\n",
    "#genero e salário\n",
    "dataset.isnull().sum()"
   ]
  },
  {
   "cell_type": "code",
   "execution_count": null,
   "metadata": {},
   "outputs": [],
   "source": [
    "#salarios\n",
    "#remover nas e substiutir pela mediana\n",
    "dataset['Salario'].describe()"
   ]
  },
  {
   "cell_type": "code",
   "execution_count": null,
   "metadata": {},
   "outputs": [],
   "source": [
    "mediana = sts.median(dataset['Salario'])\n",
    "mediana"
   ]
  },
  {
   "cell_type": "code",
   "execution_count": null,
   "metadata": {},
   "outputs": [],
   "source": [
    "#substituir NAN por mediana\n",
    "dataset['Salario'].fillna(mediana, inplace=True)"
   ]
  },
  {
   "cell_type": "code",
   "execution_count": null,
   "metadata": {},
   "outputs": [],
   "source": [
    "#Verificamos se NAN não existem mais\n",
    "dataset['Salario'].isnull().sum()"
   ]
  },
  {
   "cell_type": "code",
   "execution_count": null,
   "metadata": {},
   "outputs": [],
   "source": [
    "#genero, falta de padronização e NAs\n",
    "agrupado = dataset.groupby(['Genero']).size()\n",
    "agrupado"
   ]
  },
  {
   "cell_type": "code",
   "execution_count": null,
   "metadata": {},
   "outputs": [],
   "source": [
    "#total de Nas\n",
    "dataset['Genero'].isnull().sum()"
   ]
  },
  {
   "cell_type": "code",
   "execution_count": null,
   "metadata": {},
   "outputs": [],
   "source": [
    "#preenche NAs com Masculino (moda)\n",
    "dataset['Genero'].fillna('Masculino', inplace=True)"
   ]
  },
  {
   "cell_type": "code",
   "execution_count": null,
   "metadata": {},
   "outputs": [],
   "source": [
    "#verificamos novamente NANs\n",
    "dataset['Genero'].isnull().sum()"
   ]
  },
  {
   "cell_type": "code",
   "execution_count": null,
   "metadata": {},
   "outputs": [],
   "source": [
    "#padroniza de acordo com o dominio\n",
    "dataset.loc[dataset['Genero'] ==  'M', 'Genero'] = \"Masculino\"\n",
    "dataset.loc[dataset['Genero'].isin( ['Fem','F']), 'Genero'] = \"Feminino\"\n",
    "#visualiza o resultado\n",
    "agrupado = dataset.groupby(['Genero']).size()\n",
    "agrupado"
   ]
  },
  {
   "cell_type": "code",
   "execution_count": null,
   "metadata": {},
   "outputs": [],
   "source": [
    "#idades fora do dominio\n",
    "dataset['Idade'].describe()"
   ]
  },
  {
   "cell_type": "code",
   "execution_count": null,
   "metadata": {},
   "outputs": [],
   "source": [
    "#visualizar \n",
    "dataset.loc[(dataset['Idade'] <  0 )  | ( dataset['Idade'] >  120) ]"
   ]
  },
  {
   "cell_type": "code",
   "execution_count": null,
   "metadata": {},
   "outputs": [],
   "source": [
    "#calular a mediana\n",
    "mediana = sts.median(dataset['Idade'])\n",
    "mediana"
   ]
  },
  {
   "cell_type": "code",
   "execution_count": null,
   "metadata": {},
   "outputs": [],
   "source": [
    "#substituir\n",
    "dataset.loc[(dataset['Idade'] <  0 )  | ( dataset['Idade'] >  120), 'Idade'] = mediana"
   ]
  },
  {
   "cell_type": "code",
   "execution_count": null,
   "metadata": {},
   "outputs": [],
   "source": [
    "#verificamos se ainda existem idades fora do domínio\n",
    "dataset.loc[(dataset['Idade'] <  0 )  | ( dataset['Idade'] >  120) ]"
   ]
  },
  {
   "cell_type": "code",
   "execution_count": null,
   "metadata": {},
   "outputs": [],
   "source": [
    "#dados duplicados, buscamos pelo ID\n",
    "dataset[dataset.duplicated(['Id'],keep=False)]"
   ]
  },
  {
   "cell_type": "code",
   "execution_count": null,
   "metadata": {},
   "outputs": [],
   "source": [
    "#excluimso pelo ID\n",
    "dataset.drop_duplicates(subset=\"Id\", keep='first',inplace=True)\n",
    "#buscamos duplicados \n",
    "dataset[dataset.duplicated(['Id'],keep=False)]"
   ]
  },
  {
   "cell_type": "code",
   "execution_count": null,
   "metadata": {},
   "outputs": [],
   "source": [
    "#estado foram do domínio\n",
    "agrupado = dataset.groupby(['Estado']).size()\n",
    "agrupado"
   ]
  },
  {
   "cell_type": "code",
   "execution_count": null,
   "metadata": {},
   "outputs": [],
   "source": [
    "#atribuomos RS (moda)\n",
    "dataset.loc[dataset['Estado'].isin( ['RP','SP','TD']), 'Estado'] = \"RS\"\n",
    "agrupado = dataset.groupby(['Estado']).size()"
   ]
  },
  {
   "cell_type": "code",
   "execution_count": null,
   "metadata": {},
   "outputs": [],
   "source": [
    "#verificamos o resultado\n",
    "agrupado"
   ]
  },
  {
   "cell_type": "code",
   "execution_count": null,
   "metadata": {},
   "outputs": [],
   "source": [
    "#outliers em salário, vamos considerar 2 desvios padrão\n",
    "desv = sts.stdev(dataset['Salario'])\n",
    "desv"
   ]
  },
  {
   "cell_type": "code",
   "execution_count": null,
   "metadata": {},
   "outputs": [],
   "source": [
    "#definir padrão como maior que 2 desvios padrão\n",
    "#checamos se algum atende critério\n",
    "dataset.loc[dataset['Salario'] >=  2 * desv ] "
   ]
  },
  {
   "cell_type": "code",
   "execution_count": null,
   "metadata": {},
   "outputs": [],
   "source": [
    "#vamos atualiar salarios para mediana, calculamos\n",
    "mediana = sts.median(dataset['Salario'])\n",
    "mediana"
   ]
  },
  {
   "cell_type": "code",
   "execution_count": null,
   "metadata": {},
   "outputs": [],
   "source": [
    "#atribumos\n",
    "dataset.loc[dataset['Salario'] >=  2 * desv, 'Salario'] = mediana\n",
    "#checamos se algum atende critério\n",
    "dataset.loc[dataset['Salario'] >=  2 * desv ] "
   ]
  },
  {
   "cell_type": "code",
   "execution_count": null,
   "metadata": {},
   "outputs": [],
   "source": [
    "dataset.head()"
   ]
  },
  {
   "cell_type": "code",
   "execution_count": null,
   "metadata": {},
   "outputs": [],
   "source": [
    "dataset.shape"
   ]
  },
  {
   "cell_type": "code",
   "execution_count": null,
   "metadata": {},
   "outputs": [],
   "source": []
  }
 ],
 "metadata": {
  "kernelspec": {
   "display_name": "Python 3 (ipykernel)",
   "language": "python",
   "name": "python3"
  },
  "language_info": {
   "codemirror_mode": {
    "name": "ipython",
    "version": 3
   },
   "file_extension": ".py",
   "mimetype": "text/x-python",
   "name": "python",
   "nbconvert_exporter": "python",
   "pygments_lexer": "ipython3",
   "version": "3.11.7"
  }
 },
 "nbformat": 4,
 "nbformat_minor": 4
}
